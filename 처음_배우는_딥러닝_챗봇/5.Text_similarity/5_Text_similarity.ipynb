{
  "nbformat": 4,
  "nbformat_minor": 0,
  "metadata": {
    "colab": {
      "name": "5.Text_similarity.ipynb",
      "provenance": []
    },
    "kernelspec": {
      "name": "python3",
      "display_name": "Python 3",
      "language": "python"
    }
  },
  "cells": [
    {
      "cell_type": "markdown",
      "metadata": {
        "id": "11wTe_zrY-gt"
      },
      "source": [
        "## 5.1 텍스트 유사도 개요"
      ]
    },
    {
      "cell_type": "markdown",
      "metadata": {
        "id": "qPzy3v7lZCXM"
      },
      "source": [
        "사람은 두 개의 문장이 유사하다는 것을 두 개의 문장에 동일한 단어나 의미상 비슷한 단어들이 얼마나 분포되어 있는지 직감적으로 파악해 인지한다. 컴퓨터 또한 이와 동일한 방법으로 두 문장간의 유사도를 계산할 수 있다.\r\n",
        "\r\n",
        "임베딩을 통해 각 단어들의 벡터를 구한 다음 벡터 간의 거리를 계산해 단어 간의 의미가 얼마나 유사한지 계산할 수 있다. 이는 문장 또한 마찬가지다(단어의 묶음이기에).\r\n",
        "\r\n",
        "이 책에서는 Q&A챗봇을 다룰 것이기에 챗봇 엔진에 입력되는 문장과 시스템에서 해당 주제의 답변과 연관되어 있는 질문이 얼마나 유사한지 계산할 수 있어야 적절한 답변을 출력할 수 있다. 이처럼 두 문장 간의 유사도를 계산하기 위해서는 문장 내에 존재하는 단어들을 수치화해야 한다.\r\n",
        "\r\n",
        "이전에 배운 Word2Vec은 인공 신경망을 활용했지만 이번에는 통계 기반 방식을 살펴볼 것이다. 시작하기 앞서 언제나 인공 신경망 방식이 성능이 최고로 좋은 것은 아니라는 점을 알아두면 좋겠다. 상황에 따라 통계적인 방식이 더 적절할 수 있고 챗봇의 주제에 따라 사용하면 챗봇 엔진 성능 향상에 도움이 될 수 있다. "
      ]
    },
    {
      "cell_type": "markdown",
      "metadata": {
        "id": "vRIvKYlzafUZ"
      },
      "source": [
        "## 5.2 n-gram 유사도"
      ]
    },
    {
      "cell_type": "markdown",
      "metadata": {
        "id": "b5KyhoXraiSc"
      },
      "source": [
        "n-gram은 주어진 문장에서 n개의 연속적인 단어 시퀀스(단어 나열)을 의미한다. n-gram은 문장에서 n개의 단어를 토큰으로 사용하는데 이는 이웃한 단어의 출현 횟수를 통계적으로 표현해 텍스트의 유사도를 계산하는 방법이다. \r\n",
        "\r\n",
        "서로 다른 문장을 n-gram으로 비교하면 단어의 출현 빈도에 기반한 유사도를 계산할 수 있으며 이를 통해 논문 인용이나 도용 정도를 조사할 수 있다.\r\n",
        "\r\n",
        "<예제>\r\n",
        "**1661년** **6월** **뉴턴**은 **선생님**의 **제안**으로 **트리니티**에 **입학**하였다.\r\n",
        "n = 1 : 1661년 / 6월 / 뉴턴 / 선생님 / 제안 / 트리니티 / 입학\r\n",
        "n = 2 : 166년 6월 / 6월 뉴턴 / 뉴턴 선생님 / 선생님 제안 / 제안 트리니티 / 트리니티 입학\r\n",
        "...\r\n",
        "\r\n",
        "n이 1인 경우를 1-gram 또는 유니그림, 2인 경우 2-gram 또는 바이그램, 3인 겅우 3-gram 또는 트라이그램이라 부르며 4 이상은 숫자만 앞쪽에 붙여 부른다.\r\n",
        "\r\n",
        "예제처럼 문장을 n-gram으로 토큰을 분리한 후 단어 문서 행렬을 만든다. 이후 두 문장을 서로 비교해 동일한 단어의 출현 빈도를 확률로 계산해 유사도를 구할 수 있다.\r\n",
        "\r\n",
        "*similarity = tf(A,B) / tokens(A)*\r\n",
        "\r\n",
        "tf는 두 문장 A와 B에서 동일한 토큰의 출현 빈도를 뜻하고, tokens는 해당 문장에서 전체 토큰(n-gram으로 분리된 단어) 수를 의미한다. similarity가 1에 가까울 수록 B가 A에 유사하다고 볼 수 있다."
      ]
    },
    {
      "cell_type": "markdown",
      "metadata": {
        "id": "ObfbZl63eJQ-"
      },
      "source": [
        "## 2-gram 유사도 계산 예제"
      ]
    },
    {
      "cell_type": "code",
      "metadata": {
        "colab": {
          "base_uri": "https://localhost:8080/"
        },
        "id": "gubH5LTIf-G4",
        "outputId": "bbda3519-f8ce-418c-b041-21daeba72d2e"
      },
      "source": [
        "!pip install konlpy"
      ],
      "execution_count": 2,
      "outputs": [
        {
          "output_type": "stream",
          "text": [
            "Collecting konlpy\n",
            "\u001b[?25l  Downloading https://files.pythonhosted.org/packages/85/0e/f385566fec837c0b83f216b2da65db9997b35dd675e107752005b7d392b1/konlpy-0.5.2-py2.py3-none-any.whl (19.4MB)\n",
            "\u001b[K     |████████████████████████████████| 19.4MB 1.3MB/s \n",
            "\u001b[?25hCollecting beautifulsoup4==4.6.0\n",
            "\u001b[?25l  Downloading https://files.pythonhosted.org/packages/9e/d4/10f46e5cfac773e22707237bfcd51bbffeaf0a576b0a847ec7ab15bd7ace/beautifulsoup4-4.6.0-py3-none-any.whl (86kB)\n",
            "\u001b[K     |████████████████████████████████| 92kB 10.9MB/s \n",
            "\u001b[?25hRequirement already satisfied: lxml>=4.1.0 in /usr/local/lib/python3.6/dist-packages (from konlpy) (4.2.6)\n",
            "Collecting colorama\n",
            "  Downloading https://files.pythonhosted.org/packages/44/98/5b86278fbbf250d239ae0ecb724f8572af1c91f4a11edf4d36a206189440/colorama-0.4.4-py2.py3-none-any.whl\n",
            "Requirement already satisfied: numpy>=1.6 in /usr/local/lib/python3.6/dist-packages (from konlpy) (1.19.5)\n",
            "Collecting tweepy>=3.7.0\n",
            "  Downloading https://files.pythonhosted.org/packages/67/c3/6bed87f3b1e5ed2f34bd58bf7978e308c86e255193916be76e5a5ce5dfca/tweepy-3.10.0-py2.py3-none-any.whl\n",
            "Collecting JPype1>=0.7.0\n",
            "\u001b[?25l  Downloading https://files.pythonhosted.org/packages/de/af/93f92b38ec1ff3091cd38982ed19cea2800fefb609b5801c41fc43c0781e/JPype1-1.2.1-cp36-cp36m-manylinux2010_x86_64.whl (457kB)\n",
            "\u001b[K     |████████████████████████████████| 460kB 43.6MB/s \n",
            "\u001b[?25hRequirement already satisfied: six>=1.10.0 in /usr/local/lib/python3.6/dist-packages (from tweepy>=3.7.0->konlpy) (1.15.0)\n",
            "Requirement already satisfied: requests[socks]>=2.11.1 in /usr/local/lib/python3.6/dist-packages (from tweepy>=3.7.0->konlpy) (2.23.0)\n",
            "Requirement already satisfied: requests-oauthlib>=0.7.0 in /usr/local/lib/python3.6/dist-packages (from tweepy>=3.7.0->konlpy) (1.3.0)\n",
            "Requirement already satisfied: typing-extensions; python_version < \"3.8\" in /usr/local/lib/python3.6/dist-packages (from JPype1>=0.7.0->konlpy) (3.7.4.3)\n",
            "Requirement already satisfied: certifi>=2017.4.17 in /usr/local/lib/python3.6/dist-packages (from requests[socks]>=2.11.1->tweepy>=3.7.0->konlpy) (2020.12.5)\n",
            "Requirement already satisfied: urllib3!=1.25.0,!=1.25.1,<1.26,>=1.21.1 in /usr/local/lib/python3.6/dist-packages (from requests[socks]>=2.11.1->tweepy>=3.7.0->konlpy) (1.24.3)\n",
            "Requirement already satisfied: idna<3,>=2.5 in /usr/local/lib/python3.6/dist-packages (from requests[socks]>=2.11.1->tweepy>=3.7.0->konlpy) (2.10)\n",
            "Requirement already satisfied: chardet<4,>=3.0.2 in /usr/local/lib/python3.6/dist-packages (from requests[socks]>=2.11.1->tweepy>=3.7.0->konlpy) (3.0.4)\n",
            "Requirement already satisfied: PySocks!=1.5.7,>=1.5.6; extra == \"socks\" in /usr/local/lib/python3.6/dist-packages (from requests[socks]>=2.11.1->tweepy>=3.7.0->konlpy) (1.7.1)\n",
            "Requirement already satisfied: oauthlib>=3.0.0 in /usr/local/lib/python3.6/dist-packages (from requests-oauthlib>=0.7.0->tweepy>=3.7.0->konlpy) (3.1.0)\n",
            "Installing collected packages: beautifulsoup4, colorama, tweepy, JPype1, konlpy\n",
            "  Found existing installation: beautifulsoup4 4.6.3\n",
            "    Uninstalling beautifulsoup4-4.6.3:\n",
            "      Successfully uninstalled beautifulsoup4-4.6.3\n",
            "  Found existing installation: tweepy 3.6.0\n",
            "    Uninstalling tweepy-3.6.0:\n",
            "      Successfully uninstalled tweepy-3.6.0\n",
            "Successfully installed JPype1-1.2.1 beautifulsoup4-4.6.0 colorama-0.4.4 konlpy-0.5.2 tweepy-3.10.0\n"
          ],
          "name": "stdout"
        }
      ]
    },
    {
      "cell_type": "code",
      "metadata": {
        "colab": {
          "base_uri": "https://localhost:8080/"
        },
        "id": "VM6B8kjSYRCw",
        "outputId": "ea8ed6db-a0b4-40ab-9609-f4e28f10d03e"
      },
      "source": [
        "from konlpy.tag import Komoran\r\n",
        "\r\n",
        "# 어절 단위 n-gram\r\n",
        "def word_ngram(bow, num_gram):\r\n",
        "  text = tuple(bow) # komoran으로 noun만 추출될 것\r\n",
        "  ngrams = [text[x:x + num_gram] for x in range(0, len(text))]\r\n",
        "  return tuple(ngrams)\r\n",
        "\r\n",
        "def similarity(doc1, doc2):\r\n",
        "  cnt = 0\r\n",
        "  for token in doc1:\r\n",
        "    if token in doc2:\r\n",
        "      cnt += 1\r\n",
        "\r\n",
        "  return cnt / len(doc1)\r\n",
        "\r\n",
        "sentence1 = '6월에 뉴턴은 선생님의 제안으로 트리니티에 입학했다.'\r\n",
        "sentence2 = '6월에 뉴턴은 선생님의 제안으로 대학교에 입학했다.'\r\n",
        "sentence3 = '나는 맛있는 밥을 뉴턴 선생님과 함께 먹었다.'\r\n",
        "\r\n",
        "komoran = Komoran()\r\n",
        "# 각 문장의 noun 추출\r\n",
        "bow1 = komoran.nouns(sentence1)\r\n",
        "bow2 = komoran.nouns(sentence2)\r\n",
        "bow3 = komoran.nouns(sentence3)\r\n",
        "\r\n",
        "doc1 = word_ngram(bow1, 2)\r\n",
        "doc2 = word_ngram(bow2, 2)\r\n",
        "doc3 = word_ngram(bow3, 2)\r\n",
        "\r\n",
        "print(doc1)\r\n",
        "print(doc2)\r\n",
        "\r\n",
        "r1 = similarity(doc1, doc2)\r\n",
        "r2 = similarity(doc3, doc1)\r\n",
        "\r\n",
        "print(r1)\r\n",
        "print(r2)"
      ],
      "execution_count": 5,
      "outputs": [
        {
          "output_type": "stream",
          "text": [
            "(('6월', '뉴턴'), ('뉴턴', '선생님'), ('선생님', '제안'), ('제안', '트리니티'), ('트리니티', '입학'), ('입학',))\n",
            "(('6월', '뉴턴'), ('뉴턴', '선생님'), ('선생님', '제안'), ('제안', '대학교'), ('대학교', '입학'), ('입학',))\n",
            "0.6666666666666666\n",
            "0.0\n"
          ],
          "name": "stdout"
        }
      ]
    },
    {
      "cell_type": "markdown",
      "metadata": {
        "id": "-B07a4_Ggdno"
      },
      "source": [
        "## 5.3 코사인 유사도"
      ]
    },
    {
      "source": [
        "단어나 문장을 벡터로 표현이 가능하다면 벡터 간 거리나 각도를 이용해 유사성을 파악할 수 있을 것이다. 여러 방법이 있지만 그 중에서도 우리는 코사인 유사도를 설명할 것이다.\n",
        "\n",
        "코사인 유사도는 두 벡터 간 코사인 각도를 이용해 유사도를 측정하는 방법이다. 일반적으로 코사인 유사도는 벡터의 크기가 중요하지 않을 때 그 거리를 측정하기 위해 사용한다. 단어의 출현 빈도를 통해 유사도를 계산한다면 중복되는 단어만 많게 된다면 유사도가 매우 크게 나올 것이다. 하지만 코사인 유사도는 벡터의 크기와 상관없이 결과가 안정적이다.\n",
        "\n",
        "코사인은 두 벡터의 방향이 완전히 동일한 경우에는 1, 반대 방향인 경우에는 -1, 두 벡터가 서로 직각을 이루면 0의 값을 가진다. 즉, 두 벡터 방향이 같아 질수록 유사하다 볼 수 있다.\n",
        "\n",
        "![cosine_similarity.PNG](data:image/png;base64,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)\n",
        "\n",
        "<코사인 유사도 공식>"
      ],
      "cell_type": "markdown",
      "metadata": {}
    },
    {
      "cell_type": "code",
      "execution_count": null,
      "metadata": {},
      "outputs": [],
      "source": [
        "from konlpy.tag import Komoran\n",
        "import numpy as np\n",
        "from numpy import dot\n",
        "from numpy.linalg import norm\n",
        "\n",
        "# 코사인 유사도 계산\n",
        "def cos_sim(vec1, vec2):\n",
        "  return dot(vec1, vec2) / (norm(vec1) * norm(vec2))\n",
        "\n",
        "# TDM 만들기\n",
        "def make_term_doc_mat(sentence_bow, word_dics):\n",
        "  freq_mat = {}\n",
        "\n",
        "  for word in word_dics:\n",
        "    freq_mat[word] = 0\n",
        "\n",
        "  for word in word_dics:\n",
        "    if word in sentence_bow:\n",
        "      freq_mat[word] += 1\n",
        "\n",
        "  return freq_mat\n",
        "\n",
        "def make_vector(tdm):\n",
        "  vec = []\n",
        "  for key in tdm:\n",
        "    vec.append(tdm[key])\n",
        "  return vec\n",
        "\n",
        "sentence1 = '6월에 뉴턴은 선생님의 제안으로 트리니티에 입학했다.'\n",
        "sentence2 = '6월에 뉴턴은 선생님의 제안으로 대학교에 입학했다.'\n",
        "sentence3 = '나는 맛있는 밥을 선생님과 함께 먹었다.'\n",
        "\n",
        "komoran = Komoran()\n",
        "bow1 = komoran.nouns(sentence1)\n",
        "bow2 = komoran.nouns(sentence2)\n",
        "bow3 = komoran.nouns(sentence3)\n",
        "\n",
        "bow = bow1 + bow2 + bow3\n",
        "\n",
        "word_dics = []\n",
        "\n",
        "for token in bow:\n",
        "  if token not in word_dics:\n",
        "    word_dics.append(token)\n",
        "\n",
        "freq_list1 = make_term_doc_mat(bow1, word_dics)\n",
        "freq_list2 = make_term_doc_mat(bow2, word_dics)\n",
        "freq_list3 = make_term_doc_mat(bow3, word_dics)\n",
        "print(freq_list1)\n",
        "print(freq_list2)\n",
        "print(freq_list3)\n",
        "\n",
        "doc1 = np.array(make_vector(freq_list1))\n",
        "doc2 = np.array(make_vector(freq_list2))\n",
        "doc3 = np.array(make_vector(freq_list3))\n",
        "\n",
        "r1 = cos_sim(doc1, doc2)\n",
        "r2 = cos_sim(doc3, doc1)\n",
        "print(r1)\n",
        "print(r2)"
      ]
    }
  ]
}