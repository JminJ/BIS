{
  "nbformat": 4,
  "nbformat_minor": 0,
  "metadata": {
    "colab": {
      "name": "3장_형태소_분석.ipynb",
      "provenance": [],
      "toc_visible": true
    },
    "kernelspec": {
      "name": "python3",
      "display_name": "Python 3"
    }
  },
  "cells": [
    {
      "cell_type": "markdown",
      "metadata": {
        "id": "fX0PnQ6-IHfD"
      },
      "source": [
        "## KoNLPy\r\n",
        "\r\n",
        "KoNLPy는 기본적인 한국어 자연어 처리를 위한 파이썬 라이브러리이다. 한국어 문장을 분석하기 위해서는 토크나이징 작업을 먼저 해주어야 한다. 이때 토큰 단위를 어떻게 정의하느냐에 따라 자연어 처리 성능에 영향을 미친다. \r\n",
        "\r\n",
        "영어의 경우에는 띄어쓰기로 단어를 구분하기에 비교적 간단하게 토크나이징이 가능하지만, 한국어의 경우에는 명사와 조사를 띄어 쓰지 않고, 용언에 따라 여러 의미가 붙기 때문에 띄어쓰기만으로는 토크나이징을 할 수 없다. 이러한 한국어의 특성 때문에 우리는 문장에서 형태소를 분석할 수 있는 도구가 필요하다.\r\n",
        "\r\n",
        "형태소 분석기는 위의 기능을 담당하고 문장에서 어근, 접두사 및 접미사, 품사 등 다양한 언어적 속성의 구조를 파악해 준다. 특히 문장에서 형태소를 추출하면서 형태소의 뜻과 문맥을 고려해 품사 태깅을 해준다.\r\n",
        "\r\n",
        "이 절에서는 약간의 튜닝이 필요하긴 하나 기본적인 성능이 좋아 널리 쓰이는 KoNLPy에서 제공하는 세 가지 종류의 형태소 분석기를 살펴볼 것이다."
      ]
    },
    {
      "cell_type": "markdown",
      "metadata": {
        "id": "wE61oEH1Jxv-"
      },
      "source": [
        "### Install KNLPy"
      ]
    },
    {
      "cell_type": "code",
      "metadata": {
        "id": "B8pYRHmIG5Q7",
        "colab": {
          "base_uri": "https://localhost:8080/"
        },
        "outputId": "3b3ded94-bdc8-492d-f25e-7b59ee6d1c12"
      },
      "source": [
        "!pip install konlpy"
      ],
      "execution_count": 1,
      "outputs": [
        {
          "output_type": "stream",
          "text": [
            "Collecting konlpy\n",
            "\u001b[?25l  Downloading https://files.pythonhosted.org/packages/85/0e/f385566fec837c0b83f216b2da65db9997b35dd675e107752005b7d392b1/konlpy-0.5.2-py2.py3-none-any.whl (19.4MB)\n",
            "\u001b[K     |████████████████████████████████| 19.4MB 1.3MB/s \n",
            "\u001b[?25hRequirement already satisfied: lxml>=4.1.0 in /usr/local/lib/python3.6/dist-packages (from konlpy) (4.2.6)\n",
            "Collecting colorama\n",
            "  Downloading https://files.pythonhosted.org/packages/44/98/5b86278fbbf250d239ae0ecb724f8572af1c91f4a11edf4d36a206189440/colorama-0.4.4-py2.py3-none-any.whl\n",
            "Collecting JPype1>=0.7.0\n",
            "\u001b[?25l  Downloading https://files.pythonhosted.org/packages/de/af/93f92b38ec1ff3091cd38982ed19cea2800fefb609b5801c41fc43c0781e/JPype1-1.2.1-cp36-cp36m-manylinux2010_x86_64.whl (457kB)\n",
            "\u001b[K     |████████████████████████████████| 460kB 53.8MB/s \n",
            "\u001b[?25hCollecting beautifulsoup4==4.6.0\n",
            "\u001b[?25l  Downloading https://files.pythonhosted.org/packages/9e/d4/10f46e5cfac773e22707237bfcd51bbffeaf0a576b0a847ec7ab15bd7ace/beautifulsoup4-4.6.0-py3-none-any.whl (86kB)\n",
            "\u001b[K     |████████████████████████████████| 92kB 9.2MB/s \n",
            "\u001b[?25hCollecting tweepy>=3.7.0\n",
            "  Downloading https://files.pythonhosted.org/packages/67/c3/6bed87f3b1e5ed2f34bd58bf7978e308c86e255193916be76e5a5ce5dfca/tweepy-3.10.0-py2.py3-none-any.whl\n",
            "Requirement already satisfied: numpy>=1.6 in /usr/local/lib/python3.6/dist-packages (from konlpy) (1.19.5)\n",
            "Requirement already satisfied: typing-extensions; python_version < \"3.8\" in /usr/local/lib/python3.6/dist-packages (from JPype1>=0.7.0->konlpy) (3.7.4.3)\n",
            "Requirement already satisfied: requests[socks]>=2.11.1 in /usr/local/lib/python3.6/dist-packages (from tweepy>=3.7.0->konlpy) (2.23.0)\n",
            "Requirement already satisfied: requests-oauthlib>=0.7.0 in /usr/local/lib/python3.6/dist-packages (from tweepy>=3.7.0->konlpy) (1.3.0)\n",
            "Requirement already satisfied: six>=1.10.0 in /usr/local/lib/python3.6/dist-packages (from tweepy>=3.7.0->konlpy) (1.15.0)\n",
            "Requirement already satisfied: idna<3,>=2.5 in /usr/local/lib/python3.6/dist-packages (from requests[socks]>=2.11.1->tweepy>=3.7.0->konlpy) (2.10)\n",
            "Requirement already satisfied: certifi>=2017.4.17 in /usr/local/lib/python3.6/dist-packages (from requests[socks]>=2.11.1->tweepy>=3.7.0->konlpy) (2020.12.5)\n",
            "Requirement already satisfied: chardet<4,>=3.0.2 in /usr/local/lib/python3.6/dist-packages (from requests[socks]>=2.11.1->tweepy>=3.7.0->konlpy) (3.0.4)\n",
            "Requirement already satisfied: urllib3!=1.25.0,!=1.25.1,<1.26,>=1.21.1 in /usr/local/lib/python3.6/dist-packages (from requests[socks]>=2.11.1->tweepy>=3.7.0->konlpy) (1.24.3)\n",
            "Requirement already satisfied: PySocks!=1.5.7,>=1.5.6; extra == \"socks\" in /usr/local/lib/python3.6/dist-packages (from requests[socks]>=2.11.1->tweepy>=3.7.0->konlpy) (1.7.1)\n",
            "Requirement already satisfied: oauthlib>=3.0.0 in /usr/local/lib/python3.6/dist-packages (from requests-oauthlib>=0.7.0->tweepy>=3.7.0->konlpy) (3.1.0)\n",
            "Installing collected packages: colorama, JPype1, beautifulsoup4, tweepy, konlpy\n",
            "  Found existing installation: beautifulsoup4 4.6.3\n",
            "    Uninstalling beautifulsoup4-4.6.3:\n",
            "      Successfully uninstalled beautifulsoup4-4.6.3\n",
            "  Found existing installation: tweepy 3.6.0\n",
            "    Uninstalling tweepy-3.6.0:\n",
            "      Successfully uninstalled tweepy-3.6.0\n",
            "Successfully installed JPype1-1.2.1 beautifulsoup4-4.6.0 colorama-0.4.4 konlpy-0.5.2 tweepy-3.10.0\n"
          ],
          "name": "stdout"
        }
      ]
    },
    {
      "cell_type": "markdown",
      "metadata": {
        "id": "oD0lFnquJ1sx"
      },
      "source": [
        "### Kkma"
      ]
    },
    {
      "cell_type": "markdown",
      "metadata": {
        "id": "ihkPKEcfKOzy"
      },
      "source": [
        "morphs(phrase) : 인자로 입력한 문장을 형태소 단위로 토크나이징 한다. 완성된 형태소들은 리스트 형태로 반환된다.\r\n",
        "\r\n",
        "nouns(phrase) : 인자로 입력한 문장에서 품사가 명사인 토큰만 추출한다.\r\n",
        "\r\n",
        "pos(phrase, flatten = True) : Pos tagger라 부르며, 인자로 입력한 문장에서 형태소를 추출한 뒤 품사 태깅을 한다. 추출된 형태소와 그 형태소의 품사가 튜플 형태로 묶여 리스트로 반환된다.\r\n",
        "\r\n",
        "sentences(phrase) : 인자로 입력한 여러 문장을 분리해주는 역할을 한다. 분리된 문장은 리스트 형태로 반환된다."
      ]
    },
    {
      "cell_type": "code",
      "metadata": {
        "colab": {
          "base_uri": "https://localhost:8080/"
        },
        "id": "mTGYg1NUHXWn",
        "outputId": "65d215ad-94ce-46e2-d621-7309d762539a"
      },
      "source": [
        "from konlpy.tag import Kkma\r\n",
        "\r\n",
        "kkma = Kkma()\r\n",
        "\r\n",
        "text = '동생이 공부를 하고 있다.'\r\n",
        "\r\n",
        "morphs = kkma.morphs(text)\r\n",
        "print(morphs)\r\n",
        "\r\n",
        "pos = kkma.pos(text)\r\n",
        "print(pos)\r\n",
        "\r\n",
        "nouns = kkma.nouns(text)\r\n",
        "print(nouns)\r\n",
        "\r\n",
        "sentences = '동생은 놀고있나? 아 공부하고 있었구나.'\r\n",
        "s = kkma.sentences(sentences)\r\n",
        "print(s)"
      ],
      "execution_count": 3,
      "outputs": [
        {
          "output_type": "stream",
          "text": [
            "['동생', '이', '공부', '를', '하', '고', '있', '다', '.']\n",
            "[('동생', 'NNG'), ('이', 'JKS'), ('공부', 'NNG'), ('를', 'JKO'), ('하', 'VV'), ('고', 'ECE'), ('있', 'VXV'), ('다', 'EFN'), ('.', 'SF')]\n",
            "['동생', '공부']\n",
            "['동생은 놀고 있나?', '아 공부하고 있었구나.']\n"
          ],
          "name": "stdout"
        }
      ]
    },
    {
      "cell_type": "markdown",
      "metadata": {
        "id": "zf834tARLBhU"
      },
      "source": [
        "### Komoran\r\n",
        "\r\n"
      ]
    },
    {
      "cell_type": "markdown",
      "metadata": {
        "id": "_BTai3mUMK72"
      },
      "source": [
        "morphs(phrase) : 인자로 입력한 문장을 형태소 단위로 토크나이징 한다. 완성된 형태소들은 리스트 형태로 반환된다.\r\n",
        "\r\n",
        "nouns(phrase) : 인자로 입력한 문장에서 품사가 명사인 토큰만 추출한다.\r\n",
        "\r\n",
        "pos(phrase, flatten = True) : Pos tagger라 부르며, 인자로 입력한 문장에서 형태소를 추출한 뒤 품사 태깅을 한다. 추출된 형태소와 그 형태소의 품사가 튜플 형태로 묶여 리스트로 반환된다."
      ]
    },
    {
      "cell_type": "code",
      "metadata": {
        "colab": {
          "base_uri": "https://localhost:8080/"
        },
        "id": "EXypEQPBLkgo",
        "outputId": "29a405c9-bbd7-4b78-cf99-98be24921377"
      },
      "source": [
        "from konlpy.tag import Komoran\r\n",
        "\r\n",
        "komoran = Komoran()\r\n",
        "\r\n",
        "text = '동생이 공부를 마쳤다.'\r\n",
        "\r\n",
        "morphs = komoran.morphs(text)\r\n",
        "print(morphs)\r\n",
        "\r\n",
        "nouns = komoran.nouns(text)\r\n",
        "print(nouns)\r\n",
        "\r\n",
        "pos = komoran.pos(text)\r\n",
        "print(pos)"
      ],
      "execution_count": 4,
      "outputs": [
        {
          "output_type": "stream",
          "text": [
            "['동생', '이', '공부', '를', '마치', '었', '다', '.']\n",
            "['동생', '공부']\n",
            "[('동생', 'NNG'), ('이', 'JKS'), ('공부', 'NNG'), ('를', 'JKO'), ('마치', 'VV'), ('었', 'EP'), ('다', 'EF'), ('.', 'SF')]\n"
          ],
          "name": "stdout"
        }
      ]
    },
    {
      "cell_type": "markdown",
      "metadata": {
        "id": "TdEc9GiFMN_u"
      },
      "source": [
        "### Okt"
      ]
    },
    {
      "cell_type": "markdown",
      "metadata": {
        "id": "K7i0Hu9BMfoZ"
      },
      "source": [
        "morphs(phrase) : 인자로 입력한 문장을 형태소 단위로 토크나이징 한다. 완성된 형태소들은 리스트 형태로 반환된다.\r\n",
        "\r\n",
        "nouns(phrase) : 인자로 입력한 문장에서 품사가 명사인 토큰만 추출한다.\r\n",
        "\r\n",
        "pos(phrase, stem = False, join = False) : Pos tagger라 부르며, 인자로 입력한 문장에서 형태소를 추출한 뒤 품사 태깅을 한다. 추출된 형태소와 그 형태소의 품사가 튜플 형태로 묶여 리스트로 반환된다.\r\n",
        "\r\n",
        "normalize(phrase) : 입력한 문장을 정규화시킨다. (예) 사랑햌ㅋㅋ → 사랑해ㅋㅋ\r\n",
        "\r\n",
        "phrases(phrase) : 입력한 문장에서 어구를 추출한다. (예) 오늘 날씨가 좋아요 → ['오늘', '오늘 날씨', '날씨']"
      ]
    },
    {
      "cell_type": "code",
      "metadata": {
        "colab": {
          "base_uri": "https://localhost:8080/"
        },
        "id": "x1PG71DLNViA",
        "outputId": "f819ab53-3c06-49b2-c0ef-743609fd172b"
      },
      "source": [
        "from konlpy.tag import Okt\r\n",
        "\r\n",
        "okt = Okt()\r\n",
        "\r\n",
        "text = '동생이 공부를 다시 시작했다.'\r\n",
        "\r\n",
        "morphs = okt.morphs(text)\r\n",
        "print(morphs)\r\n",
        "\r\n",
        "pos = okt.pos(text)\r\n",
        "print(pos)\r\n",
        "\r\n",
        "nouns = okt.nouns(text)\r\n",
        "print(nouns)\r\n",
        "\r\n",
        "# 정규화, 어구 추출\r\n",
        "text = '오늘 날씨가 좋아욬ㅋㅋ'\r\n",
        "print(okt.normalize(text))\r\n",
        "print(okt.phrases(text))"
      ],
      "execution_count": 5,
      "outputs": [
        {
          "output_type": "stream",
          "text": [
            "['동생', '이', '공부', '를', '다시', '시작', '했다', '.']\n",
            "[('동생', 'Noun'), ('이', 'Josa'), ('공부', 'Noun'), ('를', 'Josa'), ('다시', 'Noun'), ('시작', 'Noun'), ('했다', 'Verb'), ('.', 'Punctuation')]\n",
            "['동생', '공부', '다시', '시작']\n",
            "오늘 날씨가 좋아요ㅋㅋ\n",
            "['오늘', '오늘 날씨', '좋아욬', '날씨']\n"
          ],
          "name": "stdout"
        }
      ]
    },
    {
      "cell_type": "markdown",
      "metadata": {
        "id": "XZCw2Wf4OU_c"
      },
      "source": [
        "### 간단한 사용자 사전 구축"
      ]
    },
    {
      "cell_type": "markdown",
      "metadata": {
        "id": "ANMDmW9vOZ4P"
      },
      "source": [
        "'[단어] Tab [품사]' 의 형태로 tsv 파일을 만들어주면 신조어나 고유명사들을 사용자가 윈하는 태그로 태깅할 수 있다.\r\n"
      ]
    },
    {
      "cell_type": "markdown",
      "metadata": {
        "id": "52XsuIfUQQR8"
      },
      "source": [
        "**TSV 파일 만들기**"
      ]
    },
    {
      "cell_type": "code",
      "metadata": {
        "id": "qtTaTZc0PnWJ"
      },
      "source": [
        "import csv\r\n",
        "\r\n",
        "with open('/content/user_dic.tsv', 'wt') as u:\r\n",
        "  tsv = csv.writer(u, delimiter = '\\t')\r\n",
        "  tsv.writerow(['엔엘피', 'NNG'])"
      ],
      "execution_count": 7,
      "outputs": []
    },
    {
      "cell_type": "markdown",
      "metadata": {
        "id": "g_bOD0KvQVMS"
      },
      "source": [
        "**실습('엔엘피'가 NNG로 태깅된다!)**"
      ]
    },
    {
      "cell_type": "code",
      "metadata": {
        "colab": {
          "base_uri": "https://localhost:8080/"
        },
        "id": "3AQc-VkvOyCH",
        "outputId": "8e7a3af7-43b1-4e90-f5b4-16019958486a"
      },
      "source": [
        "# ./user_dic.tsv 파일은 사용자 사전 tsv 파일\r\n",
        "\r\n",
        "from konlpy.tag import Komoran\r\n",
        "\r\n",
        "komoran = Komoran(userdic = './user_dic.tsv')\r\n",
        "\r\n",
        "text = '안녕 나는 엔엘피에 관심이 많은 사람이야.'\r\n",
        "pos = komoran.pos(text)\r\n",
        "\r\n",
        "print(pos)"
      ],
      "execution_count": 8,
      "outputs": [
        {
          "output_type": "stream",
          "text": [
            "[('안녕', 'NNP'), ('나', 'NP'), ('는', 'JX'), ('엔엘피', 'NNG'), ('에', 'JKB'), ('관심', 'NNG'), ('이', 'JKS'), ('많', 'VA'), ('은', 'ETM'), ('사람', 'NNG'), ('이', 'VCP'), ('야', 'EF'), ('.', 'SF')]\n"
          ],
          "name": "stdout"
        }
      ]
    }
  ]
}