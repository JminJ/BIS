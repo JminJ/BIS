{
  "nbformat": 4,
  "nbformat_minor": 0,
  "metadata": {
    "colab": {
      "name": "6.Deeplearning_models_for_chatbot_engine.ipynb",
      "provenance": [],
      "collapsed_sections": []
    },
    "kernelspec": {
      "name": "python3",
      "display_name": "Python 3"
    }
  },
  "cells": [
    {
      "cell_type": "markdown",
      "metadata": {
        "id": "DITvIehNHDXY"
      },
      "source": [
        "## 6.1.1 인공 신경망"
      ]
    },
    {
      "cell_type": "markdown",
      "metadata": {
        "id": "EFhgZF6ZK6pK"
      },
      "source": [
        "## 6.1.2 딥러닝 분류 모델 만들기"
      ]
    },
    {
      "cell_type": "code",
      "metadata": {
        "id": "qQyLvtPpDMrx"
      },
      "source": [
        "import tensorflow as tf\n",
        "import matplotlib.pyplot as plt\n",
        "from tensorflow.keras.datasets import mnist\n",
        "from tensorflow.keras.models import Sequential\n",
        "from tensorflow.keras.layers import Flatten, Dense\n",
        "\n",
        "(x_train, y_train), (x_test, y_test) = mnist.load_data()\n",
        "x_train, x_test = x_train / 255.0, x_test / 255.0\n",
        "\n",
        "ds = tf.data.Dataset.from_tensor_slices((x_train, y_train)).shuffle(10000)\n",
        "train_size = int(len(x_train) * 0.7) # training_set : validation_set = 7 : 3\n",
        "train_ds = ds.take(train_size).batch(20)\n",
        "val_ds = ds.skip(train_size).batch(20)\n",
        "\n",
        "# model 구성\n",
        "model = Sequential()\n",
        "model.add(Flatten(input_shape = (28,28)))\n",
        "model.add(Dense(20, activation = 'relu'))\n",
        "model.add(Dense(20, activation = 'relu'))\n",
        "model.add(Dense(10, activation = 'softmax'))\n",
        "\n",
        "# model 생성\n",
        "model.compile(loss = 'sparse_categorical_crossentropy', optimizer = 'sgd', metrics = ['accuracy'])\n",
        "\n",
        "# model 학습\n",
        "hist = model.fit(train_ds, validation_data = val_ds, epochs = 10)\n",
        "\n",
        "# model 평가\n",
        "print('model evaluation')\n",
        "model.evaluate(x_test, y_test)\n",
        "\n",
        "# model 정보 출력\n",
        "model.summary()\n",
        "\n",
        "# model 저장\n",
        "model.save('mnist_model.h5')\n",
        "\n",
        "# training 결과 그래프 그리기\n",
        "fig, loss_ax = plt.subplots()\n",
        "acc_ax = loss_ax.twinx()\n",
        "\n",
        "loss_ax.plot(hist.history['loss'], 'y', label = 'train loss')\n",
        "loss_ax.plot(hist.history['val_loss'], 'r', label = 'val loss')\n",
        "\n",
        "acc_ax.plot(hist.history['accuracy'], 'b', label = 'train acc')\n",
        "acc_ax.plot(hist.history['val_accuracy'], 'g', label = 'val acc')\n",
        "\n",
        "loss_ax.set_xlabel('epoch')\n",
        "loss_ax.set_ylabel('loss')\n",
        "\n",
        "acc_ax.set_ylabel('accuracy')\n",
        "\n",
        "loss_ax.legend(loc = 'upper left')\n",
        "axx_ax.legned(loc = 'lower left')\n",
        "plt.show()"
      ],
      "execution_count": null,
      "outputs": []
    }
  ]
}